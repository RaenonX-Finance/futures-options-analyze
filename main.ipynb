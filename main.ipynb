{
 "cells": [
  {
   "cell_type": "code",
   "execution_count": 5,
   "outputs": [
    {
     "data": {
      "text/plain": "    Type 1     Last 1  Volume 1  Open Int 1  Premium 1   Strike Type.1 1  \\\n0     Call  6,677.75s       NaN         NaN   133555.0   6000.0      Put   \n1     Call  6,177.75s       NaN         NaN   123555.0   6500.0      Put   \n2     Call  5,677.75s       NaN         2.0   113555.0   7000.0      Put   \n3     Call  5,577.75s       NaN         NaN   111555.0   7100.0      Put   \n4     Call  5,477.75s       NaN         NaN   109555.0   7200.0      Put   \n..     ...        ...       ...         ...        ...      ...      ...   \n400   Call      0.20s       NaN        24.0        4.0  18100.0      Put   \n401   Call      0.20s       NaN        58.0        4.0  18200.0      Put   \n402   Call      0.20s       NaN       173.0        4.0  18500.0      Put   \n403   Call      0.15s       NaN       167.0        3.0  19000.0      Put   \n404   Call      0.15s       NaN         7.0        3.0  19500.0      Put   \n\n      Last.1 1  Volume.1 1  Open Int.1 1  ...  Type 2     Last 2 Volume 2  \\\n0        0.10s         NaN         125.0  ...    Call   6,677.25      3.0   \n1        0.15s         NaN         212.0  ...    Call  6,177.25s      NaN   \n2        0.30s         NaN         155.0  ...    Call  5,677.25s      NaN   \n3        0.30s         NaN          68.0  ...    Call  5,577.25s      NaN   \n4        0.35s         NaN          15.0  ...    Call  5,477.25s      NaN   \n..         ...         ...           ...  ...     ...        ...      ...   \n400  5,422.25s         NaN           NaN  ...    Call      0.05s      NaN   \n401  5,522.25s         NaN           NaN  ...    Call      0.05s      NaN   \n402  5,822.25s         NaN           NaN  ...    Call      0.05s      NaN   \n403  6,322.25s         NaN           NaN  ...    Call      0.05s      NaN   \n404  6,822.25s         NaN           NaN  ...    Call      0.05s      NaN   \n\n     Open Int 2  Premium 2  Type.1 2   Last.1 2 Volume.1 2  Open Int.1 2  \\\n0           5.0   133545.0       Put      0.05s       31.0          31.0   \n1           NaN   123545.0       Put      0.05s        NaN          12.0   \n2           NaN   113545.0       Put      0.05s        NaN           4.0   \n3           NaN   111545.0       Put      0.05s        NaN           NaN   \n4           NaN   109545.0       Put      0.05s        NaN           NaN   \n..          ...        ...       ...        ...        ...           ...   \n400         1.0        1.0       Put  5,421.75s        NaN           NaN   \n401         NaN        1.0       Put  5,521.75s        NaN           NaN   \n402         NaN        1.0       Put  5,821.75s        NaN           NaN   \n403         3.0        1.0       Put  6,321.75s        NaN           NaN   \n404        15.0        1.0       Put  6,821.75s        3.0           3.0   \n\n     Premium.1 2  \n0            1.0  \n1            1.0  \n2            1.0  \n3            1.0  \n4            1.0  \n..           ...  \n400     108435.0  \n401     110435.0  \n402     116435.0  \n403     126435.0  \n404     136435.0  \n\n[405 rows x 21 columns]",
      "text/html": "<div>\n<style scoped>\n    .dataframe tbody tr th:only-of-type {\n        vertical-align: middle;\n    }\n\n    .dataframe tbody tr th {\n        vertical-align: top;\n    }\n\n    .dataframe thead th {\n        text-align: right;\n    }\n</style>\n<table border=\"1\" class=\"dataframe\">\n  <thead>\n    <tr style=\"text-align: right;\">\n      <th></th>\n      <th>Type 1</th>\n      <th>Last 1</th>\n      <th>Volume 1</th>\n      <th>Open Int 1</th>\n      <th>Premium 1</th>\n      <th>Strike</th>\n      <th>Type.1 1</th>\n      <th>Last.1 1</th>\n      <th>Volume.1 1</th>\n      <th>Open Int.1 1</th>\n      <th>...</th>\n      <th>Type 2</th>\n      <th>Last 2</th>\n      <th>Volume 2</th>\n      <th>Open Int 2</th>\n      <th>Premium 2</th>\n      <th>Type.1 2</th>\n      <th>Last.1 2</th>\n      <th>Volume.1 2</th>\n      <th>Open Int.1 2</th>\n      <th>Premium.1 2</th>\n    </tr>\n  </thead>\n  <tbody>\n    <tr>\n      <th>0</th>\n      <td>Call</td>\n      <td>6,677.75s</td>\n      <td>NaN</td>\n      <td>NaN</td>\n      <td>133555.0</td>\n      <td>6000.0</td>\n      <td>Put</td>\n      <td>0.10s</td>\n      <td>NaN</td>\n      <td>125.0</td>\n      <td>...</td>\n      <td>Call</td>\n      <td>6,677.25</td>\n      <td>3.0</td>\n      <td>5.0</td>\n      <td>133545.0</td>\n      <td>Put</td>\n      <td>0.05s</td>\n      <td>31.0</td>\n      <td>31.0</td>\n      <td>1.0</td>\n    </tr>\n    <tr>\n      <th>1</th>\n      <td>Call</td>\n      <td>6,177.75s</td>\n      <td>NaN</td>\n      <td>NaN</td>\n      <td>123555.0</td>\n      <td>6500.0</td>\n      <td>Put</td>\n      <td>0.15s</td>\n      <td>NaN</td>\n      <td>212.0</td>\n      <td>...</td>\n      <td>Call</td>\n      <td>6,177.25s</td>\n      <td>NaN</td>\n      <td>NaN</td>\n      <td>123545.0</td>\n      <td>Put</td>\n      <td>0.05s</td>\n      <td>NaN</td>\n      <td>12.0</td>\n      <td>1.0</td>\n    </tr>\n    <tr>\n      <th>2</th>\n      <td>Call</td>\n      <td>5,677.75s</td>\n      <td>NaN</td>\n      <td>2.0</td>\n      <td>113555.0</td>\n      <td>7000.0</td>\n      <td>Put</td>\n      <td>0.30s</td>\n      <td>NaN</td>\n      <td>155.0</td>\n      <td>...</td>\n      <td>Call</td>\n      <td>5,677.25s</td>\n      <td>NaN</td>\n      <td>NaN</td>\n      <td>113545.0</td>\n      <td>Put</td>\n      <td>0.05s</td>\n      <td>NaN</td>\n      <td>4.0</td>\n      <td>1.0</td>\n    </tr>\n    <tr>\n      <th>3</th>\n      <td>Call</td>\n      <td>5,577.75s</td>\n      <td>NaN</td>\n      <td>NaN</td>\n      <td>111555.0</td>\n      <td>7100.0</td>\n      <td>Put</td>\n      <td>0.30s</td>\n      <td>NaN</td>\n      <td>68.0</td>\n      <td>...</td>\n      <td>Call</td>\n      <td>5,577.25s</td>\n      <td>NaN</td>\n      <td>NaN</td>\n      <td>111545.0</td>\n      <td>Put</td>\n      <td>0.05s</td>\n      <td>NaN</td>\n      <td>NaN</td>\n      <td>1.0</td>\n    </tr>\n    <tr>\n      <th>4</th>\n      <td>Call</td>\n      <td>5,477.75s</td>\n      <td>NaN</td>\n      <td>NaN</td>\n      <td>109555.0</td>\n      <td>7200.0</td>\n      <td>Put</td>\n      <td>0.35s</td>\n      <td>NaN</td>\n      <td>15.0</td>\n      <td>...</td>\n      <td>Call</td>\n      <td>5,477.25s</td>\n      <td>NaN</td>\n      <td>NaN</td>\n      <td>109545.0</td>\n      <td>Put</td>\n      <td>0.05s</td>\n      <td>NaN</td>\n      <td>NaN</td>\n      <td>1.0</td>\n    </tr>\n    <tr>\n      <th>...</th>\n      <td>...</td>\n      <td>...</td>\n      <td>...</td>\n      <td>...</td>\n      <td>...</td>\n      <td>...</td>\n      <td>...</td>\n      <td>...</td>\n      <td>...</td>\n      <td>...</td>\n      <td>...</td>\n      <td>...</td>\n      <td>...</td>\n      <td>...</td>\n      <td>...</td>\n      <td>...</td>\n      <td>...</td>\n      <td>...</td>\n      <td>...</td>\n      <td>...</td>\n      <td>...</td>\n    </tr>\n    <tr>\n      <th>400</th>\n      <td>Call</td>\n      <td>0.20s</td>\n      <td>NaN</td>\n      <td>24.0</td>\n      <td>4.0</td>\n      <td>18100.0</td>\n      <td>Put</td>\n      <td>5,422.25s</td>\n      <td>NaN</td>\n      <td>NaN</td>\n      <td>...</td>\n      <td>Call</td>\n      <td>0.05s</td>\n      <td>NaN</td>\n      <td>1.0</td>\n      <td>1.0</td>\n      <td>Put</td>\n      <td>5,421.75s</td>\n      <td>NaN</td>\n      <td>NaN</td>\n      <td>108435.0</td>\n    </tr>\n    <tr>\n      <th>401</th>\n      <td>Call</td>\n      <td>0.20s</td>\n      <td>NaN</td>\n      <td>58.0</td>\n      <td>4.0</td>\n      <td>18200.0</td>\n      <td>Put</td>\n      <td>5,522.25s</td>\n      <td>NaN</td>\n      <td>NaN</td>\n      <td>...</td>\n      <td>Call</td>\n      <td>0.05s</td>\n      <td>NaN</td>\n      <td>NaN</td>\n      <td>1.0</td>\n      <td>Put</td>\n      <td>5,521.75s</td>\n      <td>NaN</td>\n      <td>NaN</td>\n      <td>110435.0</td>\n    </tr>\n    <tr>\n      <th>402</th>\n      <td>Call</td>\n      <td>0.20s</td>\n      <td>NaN</td>\n      <td>173.0</td>\n      <td>4.0</td>\n      <td>18500.0</td>\n      <td>Put</td>\n      <td>5,822.25s</td>\n      <td>NaN</td>\n      <td>NaN</td>\n      <td>...</td>\n      <td>Call</td>\n      <td>0.05s</td>\n      <td>NaN</td>\n      <td>NaN</td>\n      <td>1.0</td>\n      <td>Put</td>\n      <td>5,821.75s</td>\n      <td>NaN</td>\n      <td>NaN</td>\n      <td>116435.0</td>\n    </tr>\n    <tr>\n      <th>403</th>\n      <td>Call</td>\n      <td>0.15s</td>\n      <td>NaN</td>\n      <td>167.0</td>\n      <td>3.0</td>\n      <td>19000.0</td>\n      <td>Put</td>\n      <td>6,322.25s</td>\n      <td>NaN</td>\n      <td>NaN</td>\n      <td>...</td>\n      <td>Call</td>\n      <td>0.05s</td>\n      <td>NaN</td>\n      <td>3.0</td>\n      <td>1.0</td>\n      <td>Put</td>\n      <td>6,321.75s</td>\n      <td>NaN</td>\n      <td>NaN</td>\n      <td>126435.0</td>\n    </tr>\n    <tr>\n      <th>404</th>\n      <td>Call</td>\n      <td>0.15s</td>\n      <td>NaN</td>\n      <td>7.0</td>\n      <td>3.0</td>\n      <td>19500.0</td>\n      <td>Put</td>\n      <td>6,822.25s</td>\n      <td>NaN</td>\n      <td>NaN</td>\n      <td>...</td>\n      <td>Call</td>\n      <td>0.05s</td>\n      <td>NaN</td>\n      <td>15.0</td>\n      <td>1.0</td>\n      <td>Put</td>\n      <td>6,821.75s</td>\n      <td>3.0</td>\n      <td>3.0</td>\n      <td>136435.0</td>\n    </tr>\n  </tbody>\n</table>\n<p>405 rows × 21 columns</p>\n</div>"
     },
     "execution_count": 5,
     "metadata": {},
     "output_type": "execute_result"
    }
   ],
   "source": [
    "import pandas as pd\n",
    "\n",
    "data_path = \"data/nqm22-options-american-options-exp-06_17_22-show-all-side-by-side-intraday-05-29-2022.csv\"\n",
    "data_path_2 = \"data/nqm22-options-eom-options-exp-05_31_22-show-all-side-by-side-intraday-05-29-2022.csv\"\n",
    "\n",
    "df = pd.read_csv(data_path, thousands=\",\").iloc[:-1, :]\n",
    "df2 = pd.read_csv(data_path_2, thousands=\",\").iloc[:-1, :]\n",
    "\n",
    "df.merge(df2, on=\"Strike\", suffixes=(\" 1\", \" 2\"))"
   ],
   "metadata": {
    "collapsed": false,
    "pycharm": {
     "name": "#%%\n"
    }
   }
  },
  {
   "cell_type": "code",
   "execution_count": 5,
   "outputs": [],
   "source": [],
   "metadata": {
    "collapsed": false,
    "pycharm": {
     "name": "#%%\n"
    }
   }
  }
 ],
 "metadata": {
  "kernelspec": {
   "name": "rx-trade-ib",
   "language": "python",
   "display_name": "rx-trade-ib"
  },
  "language_info": {
   "codemirror_mode": {
    "name": "ipython",
    "version": 2
   },
   "file_extension": ".py",
   "mimetype": "text/x-python",
   "name": "python",
   "nbconvert_exporter": "python",
   "pygments_lexer": "ipython2",
   "version": "2.7.6"
  }
 },
 "nbformat": 4,
 "nbformat_minor": 0
}